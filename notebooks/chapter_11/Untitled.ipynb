{
 "cells": [
  {
   "cell_type": "code",
   "execution_count": 55,
   "id": "4804f14d-1378-4c77-ac56-29b42b3c21c6",
   "metadata": {},
   "outputs": [],
   "source": [
    "import gymnasium as gym\n",
    "import tempfile\n",
    "\n",
    "def example_function(**kargs):\n",
    "    print(kargs)"
   ]
  },
  {
   "cell_type": "code",
   "execution_count": 56,
   "id": "9e313d80-0747-4cb0-9c94-c40c1bc09e01",
   "metadata": {},
   "outputs": [],
   "source": [
    "def get_make_env_fn(**kargs):\n",
    "    def make_env_fn(env_name, seed=None, render=None, record=False,\n",
    "                    unwrapped=False, monitor_mode=None, \n",
    "                    inner_wrappers=None, outer_wrappers=None):\n",
    "        mdir = tempfile.mkdtemp()\n",
    "        env = None\n",
    "        if render:\n",
    "            try:\n",
    "                env = gym.make(env_name, render=render)\n",
    "            except:\n",
    "                pass\n",
    "        if env is None:\n",
    "            env = gym.make(env_name)\n",
    "        if seed is not None: env.reset(seed=seed)#env.seed(seed)\n",
    "        env = env.unwrapped if unwrapped else env\n",
    "        if inner_wrappers:\n",
    "            for wrapper in inner_wrappers:\n",
    "                env = wrapper(env)\n",
    "        env = wrappers.Monitor(\n",
    "            env, mdir, force=True, \n",
    "            mode=monitor_mode, \n",
    "            video_callable=lambda e_idx: record) if monitor_mode else env\n",
    "        if outer_wrappers:\n",
    "            for wrapper in outer_wrappers:\n",
    "                env = wrapper(env)\n",
    "        return env\n",
    "    return make_env_fn, kargs"
   ]
  },
  {
   "cell_type": "code",
   "execution_count": 57,
   "id": "ed387390-f308-4d2a-8669-0fcc7439ca73",
   "metadata": {},
   "outputs": [],
   "source": [
    "make_env_fn, make_env_kargs = get_make_env_fn(env_name='CartPole-v1')"
   ]
  },
  {
   "cell_type": "code",
   "execution_count": 58,
   "id": "ec4a06b5-bbaa-47f8-81e3-b43b83af0aea",
   "metadata": {},
   "outputs": [],
   "source": [
    "env = make_env_fn(**make_env_kargs)"
   ]
  },
  {
   "cell_type": "code",
   "execution_count": 60,
   "id": "7861d71c-0957-4b53-a936-c266f3a586ff",
   "metadata": {},
   "outputs": [
    {
     "data": {
      "text/plain": [
       "Box([-4.8000002e+00 -3.4028235e+38 -4.1887903e-01 -3.4028235e+38], [4.8000002e+00 3.4028235e+38 4.1887903e-01 3.4028235e+38], (4,), float32)"
      ]
     },
     "execution_count": 60,
     "metadata": {},
     "output_type": "execute_result"
    }
   ],
   "source": [
    "env.observation_space"
   ]
  },
  {
   "cell_type": "code",
   "execution_count": null,
   "id": "c34d2b07-ed82-4c3b-abfd-c0cf1e06cad1",
   "metadata": {},
   "outputs": [],
   "source": []
  }
 ],
 "metadata": {
  "kernelspec": {
   "display_name": "Python 3 (ipykernel)",
   "language": "python",
   "name": "python3"
  },
  "language_info": {
   "codemirror_mode": {
    "name": "ipython",
    "version": 3
   },
   "file_extension": ".py",
   "mimetype": "text/x-python",
   "name": "python",
   "nbconvert_exporter": "python",
   "pygments_lexer": "ipython3",
   "version": "3.11.7"
  }
 },
 "nbformat": 4,
 "nbformat_minor": 5
}
